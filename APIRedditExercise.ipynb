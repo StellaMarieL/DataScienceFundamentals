{
 "cells": [
  {
   "cell_type": "code",
   "execution_count": 1,
   "metadata": {},
   "outputs": [],
   "source": [
    "import praw\n",
    "import pandas as pd"
   ]
  },
  {
   "cell_type": "code",
   "execution_count": 4,
   "metadata": {},
   "outputs": [],
   "source": [
    "CLIENT_ID = \"x\"\n",
    "CLIENT_SECRET = \"x\"\n",
    "USER_AGENT = f\"python:{CLIENT_ID}:0.1 (by /u/xStellaMariex)\""
   ]
  },
  {
   "cell_type": "code",
   "execution_count": 6,
   "metadata": {},
   "outputs": [],
   "source": [
    "api = praw.Reddit(\n",
    "    client_id = CLIENT_ID,\n",
    "    client_secret = CLIENT_SECRET,\n",
    "    user_agent = USER_AGENT\n",
    ")"
   ]
  },
  {
   "cell_type": "code",
   "execution_count": 7,
   "metadata": {},
   "outputs": [
    {
     "data": {
      "text/plain": [
       "True"
      ]
     },
     "execution_count": 7,
     "metadata": {},
     "output_type": "execute_result"
    }
   ],
   "source": [
    "api.read_only"
   ]
  },
  {
   "cell_type": "code",
   "execution_count": 10,
   "metadata": {},
   "outputs": [],
   "source": [
    "items = []\n",
    "submissions = api.subreddit(\"movies\").hot(limit = 15)\n",
    "\n",
    "for submission in submissions:\n",
    "    item = {\n",
    "        \"title\" : submission.title,\n",
    "        \"score\" : submission.score,\n",
    "        \"num_comments\" : submission.num_comments\n",
    "        \n",
    "    }\n",
    "    items.append(item)"
   ]
  },
  {
   "cell_type": "code",
   "execution_count": 11,
   "metadata": {},
   "outputs": [
    {
     "data": {
      "text/html": [
       "<div>\n",
       "<style scoped>\n",
       "    .dataframe tbody tr th:only-of-type {\n",
       "        vertical-align: middle;\n",
       "    }\n",
       "\n",
       "    .dataframe tbody tr th {\n",
       "        vertical-align: top;\n",
       "    }\n",
       "\n",
       "    .dataframe thead th {\n",
       "        text-align: right;\n",
       "    }\n",
       "</style>\n",
       "<table border=\"1\" class=\"dataframe\">\n",
       "  <thead>\n",
       "    <tr style=\"text-align: right;\">\n",
       "      <th></th>\n",
       "      <th>num_comments</th>\n",
       "      <th>score</th>\n",
       "      <th>title</th>\n",
       "    </tr>\n",
       "  </thead>\n",
       "  <tbody>\n",
       "    <tr>\n",
       "      <th>0</th>\n",
       "      <td>524</td>\n",
       "      <td>1018</td>\n",
       "      <td>David Gordon Green and Danny McBride here from...</td>\n",
       "    </tr>\n",
       "    <tr>\n",
       "      <th>1</th>\n",
       "      <td>1352</td>\n",
       "      <td>24638</td>\n",
       "      <td>Netflix Adds 7 Million Subscribers, Beats Esti...</td>\n",
       "    </tr>\n",
       "    <tr>\n",
       "      <th>2</th>\n",
       "      <td>987</td>\n",
       "      <td>11052</td>\n",
       "      <td>Roger Ebert's Anaconda review: Generally trash...</td>\n",
       "    </tr>\n",
       "    <tr>\n",
       "      <th>3</th>\n",
       "      <td>542</td>\n",
       "      <td>17307</td>\n",
       "      <td>Ralph Fiennes to Receive Lifetime Achievement ...</td>\n",
       "    </tr>\n",
       "    <tr>\n",
       "      <th>4</th>\n",
       "      <td>124</td>\n",
       "      <td>361</td>\n",
       "      <td>Willem Dafoe Defends ‘At Eternity’s Gate’ Cast...</td>\n",
       "    </tr>\n",
       "    <tr>\n",
       "      <th>5</th>\n",
       "      <td>37</td>\n",
       "      <td>501</td>\n",
       "      <td>The Guardian: They Shall Not Grow Old review –...</td>\n",
       "    </tr>\n",
       "    <tr>\n",
       "      <th>6</th>\n",
       "      <td>117</td>\n",
       "      <td>1134</td>\n",
       "      <td>The Entire 'Teenage Mutant Ninja Turtles' Movi...</td>\n",
       "    </tr>\n",
       "    <tr>\n",
       "      <th>7</th>\n",
       "      <td>54</td>\n",
       "      <td>602</td>\n",
       "      <td>The animatronic whales used in \"Star Trek IV: ...</td>\n",
       "    </tr>\n",
       "    <tr>\n",
       "      <th>8</th>\n",
       "      <td>167</td>\n",
       "      <td>995</td>\n",
       "      <td>Carey Mulligan, Daniel Kaluuya, Martin Freeman...</td>\n",
       "    </tr>\n",
       "    <tr>\n",
       "      <th>9</th>\n",
       "      <td>3</td>\n",
       "      <td>67</td>\n",
       "      <td>AMC Theaters Brings Back 1993 \"Hocus Pocus\" Fo...</td>\n",
       "    </tr>\n",
       "    <tr>\n",
       "      <th>10</th>\n",
       "      <td>46</td>\n",
       "      <td>248</td>\n",
       "      <td>Patrick Wilson &amp; Vera Farmiga To Reprise ‘Conj...</td>\n",
       "    </tr>\n",
       "    <tr>\n",
       "      <th>11</th>\n",
       "      <td>19</td>\n",
       "      <td>37</td>\n",
       "      <td>A crew gift my dad received, after being hired...</td>\n",
       "    </tr>\n",
       "    <tr>\n",
       "      <th>12</th>\n",
       "      <td>57</td>\n",
       "      <td>125</td>\n",
       "      <td>Potential 'They Live' Sequel Teased by John Ca...</td>\n",
       "    </tr>\n",
       "    <tr>\n",
       "      <th>13</th>\n",
       "      <td>189</td>\n",
       "      <td>842</td>\n",
       "      <td>First Poster for Crime-Thriller 'Dragged Acros...</td>\n",
       "    </tr>\n",
       "    <tr>\n",
       "      <th>14</th>\n",
       "      <td>996</td>\n",
       "      <td>386</td>\n",
       "      <td>Who used to be your favorite actor/actress but...</td>\n",
       "    </tr>\n",
       "  </tbody>\n",
       "</table>\n",
       "</div>"
      ],
      "text/plain": [
       "    num_comments  score                                              title\n",
       "0            524   1018  David Gordon Green and Danny McBride here from...\n",
       "1           1352  24638  Netflix Adds 7 Million Subscribers, Beats Esti...\n",
       "2            987  11052  Roger Ebert's Anaconda review: Generally trash...\n",
       "3            542  17307  Ralph Fiennes to Receive Lifetime Achievement ...\n",
       "4            124    361  Willem Dafoe Defends ‘At Eternity’s Gate’ Cast...\n",
       "5             37    501  The Guardian: They Shall Not Grow Old review –...\n",
       "6            117   1134  The Entire 'Teenage Mutant Ninja Turtles' Movi...\n",
       "7             54    602  The animatronic whales used in \"Star Trek IV: ...\n",
       "8            167    995  Carey Mulligan, Daniel Kaluuya, Martin Freeman...\n",
       "9              3     67  AMC Theaters Brings Back 1993 \"Hocus Pocus\" Fo...\n",
       "10            46    248  Patrick Wilson & Vera Farmiga To Reprise ‘Conj...\n",
       "11            19     37  A crew gift my dad received, after being hired...\n",
       "12            57    125  Potential 'They Live' Sequel Teased by John Ca...\n",
       "13           189    842  First Poster for Crime-Thriller 'Dragged Acros...\n",
       "14           996    386  Who used to be your favorite actor/actress but..."
      ]
     },
     "execution_count": 11,
     "metadata": {},
     "output_type": "execute_result"
    }
   ],
   "source": [
    "df = pd.DataFrame(items)\n",
    "df"
   ]
  },
  {
   "cell_type": "code",
   "execution_count": 12,
   "metadata": {},
   "outputs": [],
   "source": [
    "df.to_json(\"apireddit_exercise_stella.json\")"
   ]
  }
 ],
 "metadata": {
  "kernelspec": {
   "display_name": "Python 3",
   "language": "python",
   "name": "python3"
  },
  "language_info": {
   "codemirror_mode": {
    "name": "ipython",
    "version": 3
   },
   "file_extension": ".py",
   "mimetype": "text/x-python",
   "name": "python",
   "nbconvert_exporter": "python",
   "pygments_lexer": "ipython3",
   "version": "3.6.5"
  }
 },
 "nbformat": 4,
 "nbformat_minor": 2
}
